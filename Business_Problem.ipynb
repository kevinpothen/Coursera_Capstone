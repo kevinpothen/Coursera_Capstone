{
 "cells": [
  {
   "cell_type": "markdown",
   "metadata": {},
   "source": [
    "# Capstone Project\n",
    "***"
   ]
  },
  {
   "cell_type": "markdown",
   "metadata": {},
   "source": [
    "## Business Problem\n",
    "   ABC Bank is considering to install Automated Teller Machines (ATM) in selected neighborhoods across Chennai, India. We have been given the task to study the given neighborhoods and provide analysis on top 10 neighborhoods which are the ideal to install ATMs. \n",
    "   \n",
    "Importance of the analysis -\n",
    "   ATMs incur maintanence costs and security costs. Hence it is essetial for the Bank to strategically position the machines so that they are utilised by a large population and worth the investment.\n",
    "   \n",
    "Target Audience/Stakeholders -\n",
    "    Executive Team of the bank who would take a monetary decision to invest on setting up ATMs across various locations in the City."
   ]
  }
 ],
 "metadata": {
  "kernelspec": {
   "display_name": "Python 3",
   "language": "python",
   "name": "python3"
  },
  "language_info": {
   "codemirror_mode": {
    "name": "ipython",
    "version": 3
   },
   "file_extension": ".py",
   "mimetype": "text/x-python",
   "name": "python",
   "nbconvert_exporter": "python",
   "pygments_lexer": "ipython3",
   "version": "3.7.0"
  }
 },
 "nbformat": 4,
 "nbformat_minor": 2
}
