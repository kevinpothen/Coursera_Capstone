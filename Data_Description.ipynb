{
 "cells": [
  {
   "cell_type": "markdown",
   "metadata": {},
   "source": [
    "# Capstone Project -\n",
    "***"
   ]
  },
  {
   "cell_type": "markdown",
   "metadata": {},
   "source": [
    "## Data :\n",
    "    \n",
    "Neighborhood Information -    \n",
    "    We will use a csv file containing neighborhood information required for our analysis. \n",
    "    \n",
    "Location Data Provider - \n",
    "    Using a Location Data Provider, for a given location we will be able to identify venues nearby. Also how many of each category exist and how each surrounding venue is reviewed by other people. Using Foursquare location data, we will analyse the neighborhoods.\n",
    "    \n",
    "Features of data to consider -    \n",
    "    Presence of Shopping centres, restaurants and other entertainment venues point to high foot traffic and thus potential locations for installing an ATM. For a given neighborhood, we may list the top venues in the neighborhood and try to rate it according to the presence of attractive venues. The JSON data returned by Foursquare will have required information to make this analysis."
   ]
  }
 ],
 "metadata": {
  "kernelspec": {
   "display_name": "Python 3",
   "language": "python",
   "name": "python3"
  },
  "language_info": {
   "codemirror_mode": {
    "name": "ipython",
    "version": 3
   },
   "file_extension": ".py",
   "mimetype": "text/x-python",
   "name": "python",
   "nbconvert_exporter": "python",
   "pygments_lexer": "ipython3",
   "version": "3.7.0"
  }
 },
 "nbformat": 4,
 "nbformat_minor": 2
}
